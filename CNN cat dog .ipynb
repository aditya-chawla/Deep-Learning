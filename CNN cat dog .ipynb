{
 "cells": [
  {
   "cell_type": "markdown",
   "id": "82697b72",
   "metadata": {},
   "source": [
    "# Aim: Classify cats and dogs using Convolutional neural networks"
   ]
  },
  {
   "cell_type": "code",
   "execution_count": 15,
   "id": "e20265c6",
   "metadata": {},
   "outputs": [],
   "source": [
    "import tensorflow as tf\n",
    "import tensorflow_hub as hub\n",
    "import os\n",
    "from keras.models import Sequential\n",
    "from tensorflow.keras.layers import Dense\n",
    "from tensorflow.keras.layers import Flatten\n",
    "from tensorflow.keras.layers import Conv2D\n",
    "from tensorflow.keras.layers import Dropout\n",
    "from tensorflow.keras import Model\n",
    "from tensorflow.keras.preprocessing.image import ImageDataGenerator\n",
    "from tensorflow.keras.optimizers import Adam\n",
    "from tensorflow.keras import layers\n"
   ]
  },
  {
   "cell_type": "code",
   "execution_count": 16,
   "id": "9e682946",
   "metadata": {},
   "outputs": [
    {
     "name": "stdout",
     "output_type": "stream",
     "text": [
      "Found 8000 images belonging to 2 classes.\n"
     ]
    }
   ],
   "source": [
    "train_dir=r'C:\\Users\\adity\\Downloads\\dataset\\dataset\\training_set'\n",
    "Labels = ['cat', 'dog']\n",
    "train_datagen = ImageDataGenerator(\n",
    "    rescale = 1./255,\n",
    "    shear_range = 0.2,\n",
    "    zoom_range = 0.2,\n",
    "    horizontal_flip = True\n",
    ")\n",
    "\n",
    "training_set = train_datagen.flow_from_directory(\n",
    "    train_dir,\n",
    "    target_size = (64, 64),\n",
    "    batch_size = 32,\n",
    "    class_mode = \"binary\"\n",
    ")"
   ]
  },
  {
   "cell_type": "code",
   "execution_count": 17,
   "id": "0431bb04",
   "metadata": {},
   "outputs": [
    {
     "name": "stdout",
     "output_type": "stream",
     "text": [
      "Found 2000 images belonging to 2 classes.\n"
     ]
    }
   ],
   "source": [
    "test_dir=r'C:\\Users\\adity\\Downloads\\dataset\\dataset\\test_set'\n",
    "test_datagen = ImageDataGenerator(rescale = 1./255)\n",
    "test_set = test_datagen.flow_from_directory(\n",
    "    test_dir,\n",
    "    target_size = (64, 64),\n",
    "    batch_size = 32,\n",
    "    class_mode = \"binary\"\n",
    ")"
   ]
  },
  {
   "cell_type": "code",
   "execution_count": 18,
   "id": "fb7cf77a",
   "metadata": {},
   "outputs": [
    {
     "name": "stdout",
     "output_type": "stream",
     "text": [
      "Model: \"sequential_11\"\n",
      "_________________________________________________________________\n",
      " Layer (type)                Output Shape              Param #   \n",
      "=================================================================\n",
      " conv2d_9 (Conv2D)           (None, 62, 62, 32)        896       \n",
      "                                                                 \n",
      " max_pooling2d_8 (MaxPooling  (None, 31, 31, 32)       0         \n",
      " 2D)                                                             \n",
      "                                                                 \n",
      " conv2d_10 (Conv2D)          (None, 29, 29, 32)        9248      \n",
      "                                                                 \n",
      " max_pooling2d_9 (MaxPooling  (None, 14, 14, 32)       0         \n",
      " 2D)                                                             \n",
      "                                                                 \n",
      " flatten_8 (Flatten)         (None, 6272)              0         \n",
      "                                                                 \n",
      " dense_14 (Dense)            (None, 128)               802944    \n",
      "                                                                 \n",
      " dense_15 (Dense)            (None, 1)                 129       \n",
      "                                                                 \n",
      "=================================================================\n",
      "Total params: 813,217\n",
      "Trainable params: 813,217\n",
      "Non-trainable params: 0\n",
      "_________________________________________________________________\n"
     ]
    }
   ],
   "source": [
    "cnn = tf.keras.models.Sequential()\n",
    "cnn.add(tf.keras.layers.Conv2D(filters = 32, kernel_size = 3, activation = \"relu\", input_shape = (64, 64, 3)))\n",
    "cnn.add(tf.keras.layers.MaxPool2D(pool_size = 2, strides = 2))\n",
    "\n",
    "cnn.add(tf.keras.layers.Conv2D(filters = 32, kernel_size = 3, activation = \"relu\"))\n",
    "cnn.add(tf.keras.layers.MaxPool2D(pool_size = 2, strides = 2))\n",
    "\n",
    "cnn.add(tf.keras.layers.Flatten())\n",
    "cnn.add(tf.keras.layers.Dense(units = 128, activation = \"relu\"))\n",
    "cnn.add(tf.keras.layers.Dense(units = 1, activation = \"sigmoid\"))\n",
    "cnn.summary()"
   ]
  },
  {
   "cell_type": "code",
   "execution_count": 19,
   "id": "ebd6e244",
   "metadata": {},
   "outputs": [
    {
     "name": "stdout",
     "output_type": "stream",
     "text": [
      "Epoch 1/40\n",
      "250/250 [==============================] - 44s 170ms/step - loss: 0.6753 - accuracy: 0.5760 - precision: 0.5717 - recall: 0.6058 - val_loss: 0.6376 - val_accuracy: 0.6410 - val_precision: 0.6123 - val_recall: 0.7690\n",
      "Epoch 2/40\n",
      "250/250 [==============================] - 44s 177ms/step - loss: 0.6178 - accuracy: 0.6620 - precision: 0.6577 - recall: 0.6758 - val_loss: 0.5929 - val_accuracy: 0.6915 - val_precision: 0.7022 - val_recall: 0.6650\n",
      "Epoch 3/40\n",
      "250/250 [==============================] - 45s 182ms/step - loss: 0.5735 - accuracy: 0.7019 - precision: 0.7056 - recall: 0.6927 - val_loss: 0.5439 - val_accuracy: 0.7345 - val_precision: 0.7214 - val_recall: 0.7640\n",
      "Epoch 4/40\n",
      "250/250 [==============================] - 43s 174ms/step - loss: 0.5389 - accuracy: 0.7270 - precision: 0.7288 - recall: 0.7230 - val_loss: 0.5140 - val_accuracy: 0.7585 - val_precision: 0.7934 - val_recall: 0.6990\n",
      "Epoch 5/40\n",
      "250/250 [==============================] - 48s 192ms/step - loss: 0.5073 - accuracy: 0.7504 - precision: 0.7539 - recall: 0.7435 - val_loss: 0.5040 - val_accuracy: 0.7560 - val_precision: 0.7211 - val_recall: 0.8350\n",
      "Epoch 6/40\n",
      "250/250 [==============================] - 47s 186ms/step - loss: 0.4837 - accuracy: 0.7646 - precision: 0.7697 - recall: 0.7552 - val_loss: 0.4890 - val_accuracy: 0.7670 - val_precision: 0.7397 - val_recall: 0.8240\n",
      "Epoch 7/40\n",
      "250/250 [==============================] - 46s 184ms/step - loss: 0.4662 - accuracy: 0.7766 - precision: 0.7795 - recall: 0.7715 - val_loss: 0.4703 - val_accuracy: 0.7765 - val_precision: 0.7735 - val_recall: 0.7820\n",
      "Epoch 8/40\n",
      "250/250 [==============================] - 44s 175ms/step - loss: 0.4454 - accuracy: 0.7896 - precision: 0.7935 - recall: 0.7830 - val_loss: 0.4630 - val_accuracy: 0.7860 - val_precision: 0.7624 - val_recall: 0.8310\n",
      "Epoch 9/40\n",
      "250/250 [==============================] - 45s 179ms/step - loss: 0.4377 - accuracy: 0.7962 - precision: 0.7971 - recall: 0.7947 - val_loss: 0.4646 - val_accuracy: 0.7840 - val_precision: 0.7549 - val_recall: 0.8410\n",
      "Epoch 10/40\n",
      "250/250 [==============================] - 41s 165ms/step - loss: 0.4186 - accuracy: 0.8071 - precision: 0.8087 - recall: 0.8045 - val_loss: 0.4551 - val_accuracy: 0.7960 - val_precision: 0.7686 - val_recall: 0.8470\n",
      "Epoch 11/40\n",
      "250/250 [==============================] - 41s 164ms/step - loss: 0.4039 - accuracy: 0.8091 - precision: 0.8095 - recall: 0.8085 - val_loss: 0.4799 - val_accuracy: 0.7885 - val_precision: 0.7625 - val_recall: 0.8380\n",
      "Epoch 12/40\n",
      "250/250 [==============================] - 41s 166ms/step - loss: 0.3898 - accuracy: 0.8195 - precision: 0.8197 - recall: 0.8192 - val_loss: 0.4801 - val_accuracy: 0.7830 - val_precision: 0.7331 - val_recall: 0.8900\n",
      "Epoch 13/40\n",
      "250/250 [==============================] - 41s 165ms/step - loss: 0.3733 - accuracy: 0.8330 - precision: 0.8340 - recall: 0.8315 - val_loss: 0.4540 - val_accuracy: 0.7990 - val_precision: 0.8147 - val_recall: 0.7740\n",
      "Epoch 14/40\n",
      "250/250 [==============================] - 41s 165ms/step - loss: 0.3584 - accuracy: 0.8381 - precision: 0.8380 - recall: 0.8382 - val_loss: 0.4586 - val_accuracy: 0.8005 - val_precision: 0.8032 - val_recall: 0.7960\n",
      "Epoch 15/40\n",
      "250/250 [==============================] - 41s 164ms/step - loss: 0.3426 - accuracy: 0.8479 - precision: 0.8464 - recall: 0.8500 - val_loss: 0.5140 - val_accuracy: 0.7710 - val_precision: 0.7178 - val_recall: 0.8930\n",
      "Epoch 16/40\n",
      "250/250 [==============================] - 43s 171ms/step - loss: 0.3302 - accuracy: 0.8534 - precision: 0.8521 - recall: 0.8553 - val_loss: 0.4787 - val_accuracy: 0.7950 - val_precision: 0.7742 - val_recall: 0.8330\n",
      "Epoch 17/40\n",
      "250/250 [==============================] - 41s 164ms/step - loss: 0.3188 - accuracy: 0.8651 - precision: 0.8652 - recall: 0.8650 - val_loss: 0.5149 - val_accuracy: 0.7855 - val_precision: 0.7442 - val_recall: 0.8700\n",
      "Epoch 18/40\n",
      "250/250 [==============================] - 42s 168ms/step - loss: 0.3010 - accuracy: 0.8705 - precision: 0.8720 - recall: 0.8685 - val_loss: 0.5122 - val_accuracy: 0.7865 - val_precision: 0.7382 - val_recall: 0.8880\n",
      "Epoch 19/40\n",
      "250/250 [==============================] - 41s 165ms/step - loss: 0.2939 - accuracy: 0.8724 - precision: 0.8699 - recall: 0.8758 - val_loss: 0.4942 - val_accuracy: 0.8045 - val_precision: 0.7965 - val_recall: 0.8180\n",
      "Epoch 20/40\n",
      "250/250 [==============================] - 41s 163ms/step - loss: 0.2802 - accuracy: 0.8789 - precision: 0.8778 - recall: 0.8802 - val_loss: 0.5096 - val_accuracy: 0.7965 - val_precision: 0.7683 - val_recall: 0.8490\n",
      "Epoch 21/40\n",
      "250/250 [==============================] - 41s 163ms/step - loss: 0.2568 - accuracy: 0.8904 - precision: 0.8932 - recall: 0.8867 - val_loss: 0.5282 - val_accuracy: 0.7920 - val_precision: 0.7566 - val_recall: 0.8610\n",
      "Epoch 22/40\n",
      "250/250 [==============================] - 41s 164ms/step - loss: 0.2399 - accuracy: 0.9006 - precision: 0.9011 - recall: 0.9000 - val_loss: 0.5275 - val_accuracy: 0.8070 - val_precision: 0.7837 - val_recall: 0.8480\n",
      "Epoch 23/40\n",
      "250/250 [==============================] - 42s 167ms/step - loss: 0.2420 - accuracy: 0.8988 - precision: 0.8999 - recall: 0.8972 - val_loss: 0.4978 - val_accuracy: 0.7950 - val_precision: 0.7980 - val_recall: 0.7900\n",
      "Epoch 24/40\n",
      "250/250 [==============================] - 43s 172ms/step - loss: 0.2243 - accuracy: 0.9093 - precision: 0.9117 - recall: 0.9062 - val_loss: 0.5522 - val_accuracy: 0.8035 - val_precision: 0.7797 - val_recall: 0.8460\n",
      "Epoch 25/40\n",
      "250/250 [==============================] - 40s 161ms/step - loss: 0.2159 - accuracy: 0.9103 - precision: 0.9127 - recall: 0.9072 - val_loss: 0.5681 - val_accuracy: 0.7890 - val_precision: 0.7594 - val_recall: 0.8460\n",
      "Epoch 26/40\n",
      "250/250 [==============================] - 41s 163ms/step - loss: 0.2006 - accuracy: 0.9191 - precision: 0.9174 - recall: 0.9212 - val_loss: 0.5495 - val_accuracy: 0.8000 - val_precision: 0.7742 - val_recall: 0.8470\n",
      "Epoch 27/40\n",
      "250/250 [==============================] - 42s 168ms/step - loss: 0.1926 - accuracy: 0.9193 - precision: 0.9207 - recall: 0.9175 - val_loss: 0.5824 - val_accuracy: 0.7950 - val_precision: 0.7658 - val_recall: 0.8500\n",
      "Epoch 28/40\n",
      "250/250 [==============================] - 42s 167ms/step - loss: 0.1752 - accuracy: 0.9304 - precision: 0.9303 - recall: 0.9305 - val_loss: 0.6454 - val_accuracy: 0.7955 - val_precision: 0.7631 - val_recall: 0.8570\n",
      "Epoch 29/40\n",
      "250/250 [==============================] - 42s 167ms/step - loss: 0.1716 - accuracy: 0.9350 - precision: 0.9385 - recall: 0.9310 - val_loss: 0.5838 - val_accuracy: 0.7960 - val_precision: 0.7824 - val_recall: 0.8200\n",
      "Epoch 30/40\n",
      "250/250 [==============================] - 42s 168ms/step - loss: 0.1749 - accuracy: 0.9281 - precision: 0.9302 - recall: 0.9258 - val_loss: 0.7458 - val_accuracy: 0.7705 - val_precision: 0.7162 - val_recall: 0.8960\n",
      "Epoch 31/40\n",
      "250/250 [==============================] - 42s 167ms/step - loss: 0.1468 - accuracy: 0.9434 - precision: 0.9444 - recall: 0.9423 - val_loss: 0.6778 - val_accuracy: 0.8010 - val_precision: 0.7813 - val_recall: 0.8360\n",
      "Epoch 32/40\n",
      "250/250 [==============================] - 3706s 15s/step - loss: 0.1477 - accuracy: 0.9423 - precision: 0.9405 - recall: 0.9442 - val_loss: 0.6858 - val_accuracy: 0.7895 - val_precision: 0.7639 - val_recall: 0.8380\n",
      "Epoch 33/40\n",
      "250/250 [==============================] - 44s 175ms/step - loss: 0.1416 - accuracy: 0.9484 - precision: 0.9492 - recall: 0.9475 - val_loss: 0.7113 - val_accuracy: 0.7905 - val_precision: 0.7550 - val_recall: 0.8600\n",
      "Epoch 34/40\n",
      "250/250 [==============================] - 46s 182ms/step - loss: 0.1269 - accuracy: 0.9511 - precision: 0.9503 - recall: 0.9520 - val_loss: 0.6764 - val_accuracy: 0.7965 - val_precision: 0.7881 - val_recall: 0.8110\n",
      "Epoch 35/40\n",
      "250/250 [==============================] - 40s 161ms/step - loss: 0.1330 - accuracy: 0.9491 - precision: 0.9501 - recall: 0.9480 - val_loss: 0.6691 - val_accuracy: 0.7920 - val_precision: 0.7926 - val_recall: 0.7910\n",
      "Epoch 36/40\n",
      "250/250 [==============================] - 41s 165ms/step - loss: 0.1173 - accuracy: 0.9557 - precision: 0.9574 - recall: 0.9540 - val_loss: 0.7701 - val_accuracy: 0.7865 - val_precision: 0.7538 - val_recall: 0.8510\n"
     ]
    },
    {
     "name": "stdout",
     "output_type": "stream",
     "text": [
      "Epoch 37/40\n",
      "250/250 [==============================] - 45s 182ms/step - loss: 0.1184 - accuracy: 0.9557 - precision: 0.9576 - recall: 0.9538 - val_loss: 0.7380 - val_accuracy: 0.8000 - val_precision: 0.8112 - val_recall: 0.7820\n",
      "Epoch 38/40\n",
      "250/250 [==============================] - 44s 174ms/step - loss: 0.1243 - accuracy: 0.9528 - precision: 0.9528 - recall: 0.9528 - val_loss: 0.7858 - val_accuracy: 0.7915 - val_precision: 0.7984 - val_recall: 0.7800\n",
      "Epoch 39/40\n",
      "250/250 [==============================] - 44s 175ms/step - loss: 0.1118 - accuracy: 0.9557 - precision: 0.9567 - recall: 0.9548 - val_loss: 0.7834 - val_accuracy: 0.7935 - val_precision: 0.7830 - val_recall: 0.8120\n",
      "Epoch 40/40\n",
      "250/250 [==============================] - 44s 175ms/step - loss: 0.1006 - accuracy: 0.9611 - precision: 0.9626 - recall: 0.9595 - val_loss: 0.9056 - val_accuracy: 0.7905 - val_precision: 0.7873 - val_recall: 0.7960\n"
     ]
    }
   ],
   "source": [
    "cnn.compile(\n",
    "    optimizer = \"adam\", \n",
    "    loss = \"binary_crossentropy\", \n",
    "    metrics = [\n",
    "               \"accuracy\",\n",
    "               tf.keras.metrics.Precision(name = \"precision\"),\n",
    "               tf.keras.metrics.Recall(name = \"recall\")\n",
    "            ]\n",
    ")\n",
    "history = cnn.fit(\n",
    "    x = training_set,\n",
    "    validation_data = test_set,\n",
    "    epochs = 40\n",
    ")"
   ]
  },
  {
   "cell_type": "code",
   "execution_count": 20,
   "id": "d4101ab2",
   "metadata": {},
   "outputs": [
    {
     "data": {
      "text/plain": [
       "<matplotlib.legend.Legend at 0x1a733e7c670>"
      ]
     },
     "execution_count": 20,
     "metadata": {},
     "output_type": "execute_result"
    },
    {
     "data": {
      "image/png": "[encoded data removed]",
      "text/plain": [
       "<Figure size 432x288 with 1 Axes>"
      ]
     },
     "metadata": {
      "needs_background": "light"
     },
     "output_type": "display_data"
    }
   ],
   "source": [
    "import matplotlib.pyplot as plt\n",
    "epochs = range(1, 41)\n",
    "\n",
    "# Loss\n",
    "plt.figure()\n",
    "plt.plot(epochs, history.history[\"loss\"], 'b', label = \"loss\")\n",
    "plt.plot(epochs, history.history[\"val_loss\"], 'r--', label = \"val_loss\")\n",
    "plt.xlabel(\"epoch\")\n",
    "plt.ylabel(\"loss\")\n",
    "plt.legend()"
   ]
  },
  {
   "cell_type": "markdown",
   "id": "5b867595",
   "metadata": {},
   "source": []
  }
 ],
 "metadata": {
  "kernelspec": {
   "display_name": "Python 3 (ipykernel)",
   "language": "python",
   "name": "python3"
  },
  "language_info": {
   "codemirror_mode": {
    "name": "ipython",
    "version": 3
   },
   "file_extension": ".py",
   "mimetype": "text/x-python",
   "name": "python",
   "nbconvert_exporter": "python",
   "pygments_lexer": "ipython3",
   "version": "3.9.7"
  }
 },
 "nbformat": 4,
 "nbformat_minor": 5
}
