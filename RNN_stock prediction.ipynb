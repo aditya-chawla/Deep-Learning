{
 "cells": [
  {
   "cell_type": "markdown",
   "id": "6e57ba48",
   "metadata": {},
   "source": [
    "# Aim: Predict stock price using Recurrent neural network"
   ]
  },
  {
   "cell_type": "code",
   "execution_count": 2,
   "id": "6d84e81e",
   "metadata": {},
   "outputs": [
    {
     "name": "stdout",
     "output_type": "stream",
     "text": [
      "Epoch 1/50\n",
      "38/38 [==============================] - 12s 111ms/step - loss: 0.0577 - r_square: 0.2332\n",
      "Epoch 2/50\n",
      "38/38 [==============================] - 4s 112ms/step - loss: 0.0063 - r_square: 0.9164\n",
      "Epoch 3/50\n",
      "38/38 [==============================] - 4s 110ms/step - loss: 0.0054 - r_square: 0.9288\n",
      "Epoch 4/50\n",
      "38/38 [==============================] - 4s 112ms/step - loss: 0.0049 - r_square: 0.9355\n",
      "Epoch 5/50\n",
      "38/38 [==============================] - 4s 112ms/step - loss: 0.0050 - r_square: 0.9336\n",
      "Epoch 6/50\n",
      "38/38 [==============================] - 4s 112ms/step - loss: 0.0050 - r_square: 0.9341\n",
      "Epoch 7/50\n",
      "38/38 [==============================] - 4s 111ms/step - loss: 0.0043 - r_square: 0.9429\n",
      "Epoch 8/50\n",
      "38/38 [==============================] - 4s 112ms/step - loss: 0.0043 - r_square: 0.9422\n",
      "Epoch 9/50\n",
      "38/38 [==============================] - 4s 111ms/step - loss: 0.0042 - r_square: 0.9443\n",
      "Epoch 10/50\n",
      "38/38 [==============================] - 4s 111ms/step - loss: 0.0046 - r_square: 0.9388\n",
      "Epoch 11/50\n",
      "38/38 [==============================] - 4s 111ms/step - loss: 0.0038 - r_square: 0.9496\n",
      "Epoch 12/50\n",
      "38/38 [==============================] - 4s 112ms/step - loss: 0.0046 - r_square: 0.9382\n",
      "Epoch 13/50\n",
      "38/38 [==============================] - 4s 111ms/step - loss: 0.0040 - r_square: 0.9472\n",
      "Epoch 14/50\n",
      "38/38 [==============================] - 4s 112ms/step - loss: 0.0038 - r_square: 0.9493\n",
      "Epoch 15/50\n",
      "38/38 [==============================] - 4s 111ms/step - loss: 0.0040 - r_square: 0.9475\n",
      "Epoch 16/50\n",
      "38/38 [==============================] - 4s 111ms/step - loss: 0.0038 - r_square: 0.9500\n",
      "Epoch 17/50\n",
      "38/38 [==============================] - 4s 111ms/step - loss: 0.0041 - r_square: 0.9461\n",
      "Epoch 18/50\n",
      "38/38 [==============================] - 4s 116ms/step - loss: 0.0035 - r_square: 0.9537\n",
      "Epoch 19/50\n",
      "38/38 [==============================] - 4s 117ms/step - loss: 0.0034 - r_square: 0.9547\n",
      "Epoch 20/50\n",
      "38/38 [==============================] - 4s 112ms/step - loss: 0.0035 - r_square: 0.9532\n",
      "Epoch 21/50\n",
      "38/38 [==============================] - 4s 110ms/step - loss: 0.0036 - r_square: 0.9523\n",
      "Epoch 22/50\n",
      "38/38 [==============================] - 4s 110ms/step - loss: 0.0033 - r_square: 0.9562\n",
      "Epoch 23/50\n",
      "38/38 [==============================] - 4s 110ms/step - loss: 0.0034 - r_square: 0.9553\n",
      "Epoch 24/50\n",
      "38/38 [==============================] - 4s 109ms/step - loss: 0.0034 - r_square: 0.9543\n",
      "Epoch 25/50\n",
      "38/38 [==============================] - 4s 109ms/step - loss: 0.0031 - r_square: 0.9584\n",
      "Epoch 26/50\n",
      "38/38 [==============================] - 4s 116ms/step - loss: 0.0033 - r_square: 0.9568\n",
      "Epoch 27/50\n",
      "38/38 [==============================] - 4s 115ms/step - loss: 0.0026 - r_square: 0.9648\n",
      "Epoch 28/50\n",
      "38/38 [==============================] - 4s 111ms/step - loss: 0.0031 - r_square: 0.9585\n",
      "Epoch 29/50\n",
      "38/38 [==============================] - 4s 111ms/step - loss: 0.0033 - r_square: 0.9562\n",
      "Epoch 30/50\n",
      "38/38 [==============================] - 4s 110ms/step - loss: 0.0030 - r_square: 0.9597\n",
      "Epoch 31/50\n",
      "38/38 [==============================] - 4s 111ms/step - loss: 0.0029 - r_square: 0.9618\n",
      "Epoch 32/50\n",
      "38/38 [==============================] - 4s 111ms/step - loss: 0.0031 - r_square: 0.9592\n",
      "Epoch 33/50\n",
      "38/38 [==============================] - 4s 110ms/step - loss: 0.0028 - r_square: 0.9623\n",
      "Epoch 34/50\n",
      "38/38 [==============================] - 4s 109ms/step - loss: 0.0027 - r_square: 0.9646\n",
      "Epoch 35/50\n",
      "38/38 [==============================] - 4s 110ms/step - loss: 0.0028 - r_square: 0.9627\n",
      "Epoch 36/50\n",
      "38/38 [==============================] - 4s 110ms/step - loss: 0.0026 - r_square: 0.9653\n",
      "Epoch 37/50\n",
      "38/38 [==============================] - 4s 111ms/step - loss: 0.0029 - r_square: 0.9614\n",
      "Epoch 38/50\n",
      "38/38 [==============================] - 4s 110ms/step - loss: 0.0026 - r_square: 0.9650\n",
      "Epoch 39/50\n",
      "38/38 [==============================] - 4s 111ms/step - loss: 0.0029 - r_square: 0.9613\n",
      "Epoch 40/50\n",
      "38/38 [==============================] - 4s 110ms/step - loss: 0.0028 - r_square: 0.9622\n",
      "Epoch 41/50\n",
      "38/38 [==============================] - 4s 111ms/step - loss: 0.0024 - r_square: 0.9685\n",
      "Epoch 42/50\n",
      "38/38 [==============================] - 4s 111ms/step - loss: 0.0025 - r_square: 0.9668\n",
      "Epoch 43/50\n",
      "38/38 [==============================] - 4s 110ms/step - loss: 0.0026 - r_square: 0.9659\n",
      "Epoch 44/50\n",
      "38/38 [==============================] - 4s 112ms/step - loss: 0.0025 - r_square: 0.9666\n",
      "Epoch 45/50\n",
      "38/38 [==============================] - 4s 111ms/step - loss: 0.0025 - r_square: 0.9672\n",
      "Epoch 46/50\n",
      "38/38 [==============================] - 4s 111ms/step - loss: 0.0026 - r_square: 0.9656\n",
      "Epoch 47/50\n",
      "38/38 [==============================] - 4s 111ms/step - loss: 0.0023 - r_square: 0.9688\n",
      "Epoch 48/50\n",
      "38/38 [==============================] - 4s 111ms/step - loss: 0.0026 - r_square: 0.9652\n",
      "Epoch 49/50\n",
      "38/38 [==============================] - 4s 110ms/step - loss: 0.0023 - r_square: 0.9690\n",
      "Epoch 50/50\n",
      "38/38 [==============================] - 4s 111ms/step - loss: 0.0024 - r_square: 0.9686\n"
     ]
    },
    {
     "data": {
      "text/plain": [
       "<keras.callbacks.History at 0x250629d2940>"
      ]
     },
     "execution_count": 2,
     "metadata": {},
     "output_type": "execute_result"
    }
   ],
   "source": [
    "import pandas as pd\n",
    "import numpy as np\n",
    "train_data = pd.read_csv(r'C:\\Users\\adity\\Downloads\\Google_Stock_Price_Train.csv')\n",
    "train = train_data.loc[:,['Open']].values\n",
    "from sklearn.preprocessing import MinMaxScaler\n",
    "scaler=MinMaxScaler(feature_range=(0,1))\n",
    "train_scaled=scaler.fit_transform(train)\n",
    "\n",
    "x_train=[]\n",
    "y_train=[]\n",
    "timesteps=50\n",
    "for i in range(timesteps, 1258):\n",
    "        x_train.append(train_scaled[i-timesteps:i, 0])\n",
    "        y_train.append(train_scaled[i,0])\n",
    "x_train, y_train= np.array(x_train), np.array(y_train)\n",
    "x_train=np.reshape(x_train,(x_train.shape[0],x_train.shape[1],1))\n",
    "from keras.models import Sequential\n",
    "from tensorflow.keras.layers import LSTM\n",
    "from tensorflow.keras.layers import Dense\n",
    "from tensorflow.keras.layers import Flatten\n",
    "from tensorflow.keras.layers import Dropout\n",
    "import tensorflow_addons as tfa\n",
    "\n",
    "rnn=Sequential()\n",
    "rnn.add(LSTM(units=50, return_sequences=True, input_shape=(x_train.shape[1],1)))\n",
    "rnn.add(Dropout(rate=0.2))\n",
    "rnn.add(LSTM(units=50, return_sequences=True))\n",
    "rnn.add(Dropout(rate=0.2))\n",
    "rnn.add(LSTM(units=50, return_sequences=True))\n",
    "rnn.add(Dropout(rate=0.2))\n",
    "rnn.add(LSTM(units=50, return_sequences=False))\n",
    "rnn.add(Dropout(rate=0.2))\n",
    "rnn.add(Dense(units=1))\n",
    "\n",
    "rnn.compile(loss='mean_squared_error',optimizer='adam', metrics=[tfa.metrics.RSquare(y_shape = (1,))])\n",
    "rnn.fit(x=x_train, y=y_train, epochs=50, batch_size=32)\n"
   ]
  },
  {
   "cell_type": "code",
   "execution_count": 4,
   "id": "ecb6f0c5",
   "metadata": {},
   "outputs": [
    {
     "data": {
      "image/png": "[encoded data removed]",
      "text/plain": [
       "<Figure size 432x288 with 1 Axes>"
      ]
     },
     "metadata": {
      "needs_background": "light"
     },
     "output_type": "display_data"
    }
   ],
   "source": [
    "import matplotlib.pyplot as plt\n",
    "test_data = pd.read_csv(r'C:\\Users\\adity\\Downloads\\Google_Stock_Price_Test.csv')\n",
    "real_stock_price = test_data.loc[:,['Open']].values\n",
    "total_data = pd.concat((train_data['Open'],test_data['Open']),axis=0)\n",
    "inputs = total_data[len(total_data)-len(test_data)-timesteps:].values.reshape(-1,1)\n",
    "inputs = scaler.transform(inputs) #min max scaler\n",
    "X_test = []\n",
    "for i in range(timesteps, 70):\n",
    "    X_test.append(inputs[i-timesteps:i, 0])\n",
    "X_test = np.array(X_test)\n",
    "X_test = np.reshape(X_test, (X_test.shape[0], X_test.shape[1], 1))\n",
    "predicted_stock_price = rnn.predict(X_test)\n",
    "predicted_stock_price = scaler.inverse_transform(predicted_stock_price)\n",
    "plt.plot(real_stock_price,color='red',label='Real Google Stock Price')\n",
    "plt.plot(predicted_stock_price,color='blue',label='Predicted Google Stock Price')\n",
    "plt.title('Google Stock Price Prediction')\n",
    "plt.xlabel('Time')\n",
    "plt.ylabel('Google Stock Price')\n",
    "plt.legend()\n",
    "plt.show()"
   ]
  },
  {
   "cell_type": "code",
   "execution_count": null,
   "id": "3c828c67",
   "metadata": {},
   "outputs": [],
   "source": []
  }
 ],
 "metadata": {
  "kernelspec": {
   "display_name": "Python 3 (ipykernel)",
   "language": "python",
   "name": "python3"
  },
  "language_info": {
   "codemirror_mode": {
    "name": "ipython",
    "version": 3
   },
   "file_extension": ".py",
   "mimetype": "text/x-python",
   "name": "python",
   "nbconvert_exporter": "python",
   "pygments_lexer": "ipython3",
   "version": "3.9.7"
  }
 },
 "nbformat": 4,
 "nbformat_minor": 5
}
