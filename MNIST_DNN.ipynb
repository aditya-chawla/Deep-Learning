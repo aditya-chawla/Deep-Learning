{
  "cells": [
    {
      "cell_type": "markdown",
      "metadata": {
        "id": "view-in-github",
        "colab_type": "text"
      },
      "source": [
        "<a href=\"https://colab.research.google.com/github/aditya-chawla/Deep-Learning/blob/main/MNIST_DNN.ipynb\" target=\"_parent\"><img src=\"https://colab.research.google.com/assets/colab-badge.svg\" alt=\"Open In Colab\"/></a>"
      ]
    },
    {
      "cell_type": "markdown",
      "metadata": {
        "id": "PfD1PIVAqbtF"
      },
      "source": [
        "# Aim: Implementation of Deep Neural Network using Tensorflow for character recognition using MNIST dataset "
      ]
    },
    {
      "cell_type": "markdown",
      "metadata": {
        "id": "gesx5_iuqbtP"
      },
      "source": [
        "# Procedure: "
      ]
    },
    {
      "cell_type": "code",
      "execution_count": null,
      "metadata": {
        "id": "U0qpEvkStmKe"
      },
      "outputs": [],
      "source": [
        "import numpy as np\n",
        "import matplotlib.pyplot as plt\n",
        "import tensorflow as tf"
      ]
    },
    {
      "cell_type": "code",
      "execution_count": null,
      "metadata": {
        "colab": {
          "base_uri": "https://localhost:8080/"
        },
        "id": "IVxUMgS8t4RV",
        "outputId": "f5f92fde-7c83-48b5-8190-948f23d8a38a"
      },
      "outputs": [
        {
          "output_type": "stream",
          "name": "stdout",
          "text": [
            "Downloading data from https://storage.googleapis.com/tensorflow/tf-keras-datasets/mnist.npz\n",
            "11493376/11490434 [==============================] - 0s 0us/step\n",
            "11501568/11490434 [==============================] - 0s 0us/step\n"
          ]
        }
      ],
      "source": [
        "(x_train, y_train), (x_test, y_test) = tf.keras.datasets.mnist.load_data()\n",
        "assert x_train.shape == (60000, 28, 28)\n",
        "assert x_test.shape == (10000, 28, 28)\n",
        "assert y_train.shape == (60000,)\n",
        "assert y_test.shape == (10000,)"
      ]
    },
    {
      "cell_type": "code",
      "execution_count": null,
      "metadata": {
        "colab": {
          "base_uri": "https://localhost:8080/",
          "height": 585
        },
        "id": "eeMVbALNucAp",
        "outputId": "2a84ed13-5d15-4660-c653-ffbd3dc65d31"
      },
      "outputs": [
        {
          "output_type": "display_data",
          "data": {
            "text/plain": [
              "<Figure size 576x576 with 9 Axes>"
            ],
            "image/png": "[encoded data removed]"
          },
          "metadata": {
            "needs_background": "light"
          }
        }
      ],
      "source": [
        "plt.figure(figsize = (8, 8))\n",
        "for i in range(9):\n",
        "    sample_img_index = np.random.randint(low = 0, high = len(x_train))\n",
        "    plt.subplot(3, 3, i + 1)\n",
        "    plt.imshow(x_train[sample_img_index])\n",
        "    plt.title(f\"Class = {y_train[sample_img_index]}\")\n",
        "plt.tight_layout()"
      ]
    },
    {
      "cell_type": "code",
      "execution_count": null,
      "metadata": {
        "colab": {
          "base_uri": "https://localhost:8080/"
        },
        "id": "Bcp_35oEzPsC",
        "outputId": "fb544634-45d6-4cc0-d7eb-8a42646a6da7"
      },
      "outputs": [
        {
          "output_type": "stream",
          "name": "stdout",
          "text": [
            "x_train.shape = (60000, 784)\n",
            "x_test.shape = (10000, 784)\n"
          ]
        }
      ],
      "source": [
        "x_train = x_train.reshape(len(x_train), -1)\n",
        "x_test = x_test.reshape(len(x_test), -1)\n",
        "\n",
        "print(\"x_train.shape =\", x_train.shape)\n",
        "print(\"x_test.shape =\", x_test.shape)"
      ]
    },
    {
      "cell_type": "code",
      "execution_count": null,
      "metadata": {
        "id": "IW2_1mrj0Rgw"
      },
      "outputs": [],
      "source": [
        "x_train = x_train.astype(\"float32\")\n",
        "x_test = x_test.astype(\"float32\")\n",
        "\n",
        "x_train /= 255\n",
        "x_test /= 255"
      ]
    },
    {
      "cell_type": "code",
      "execution_count": null,
      "metadata": {
        "colab": {
          "base_uri": "https://localhost:8080/"
        },
        "id": "sllgonTB0Sel",
        "outputId": "734e1b7d-8c59-43fc-ad89-565903877e00"
      },
      "outputs": [
        {
          "output_type": "stream",
          "name": "stdout",
          "text": [
            "y_train.shape = (60000, 10)\n",
            "y_test.shape = (10000, 10)\n"
          ]
        }
      ],
      "source": [
        "y_train = tf.keras.utils.to_categorical(y_train)\n",
        "y_test = tf.keras.utils.to_categorical(y_test)\n",
        "\n",
        "print(\"y_train.shape =\", y_train.shape)\n",
        "print(\"y_test.shape =\", y_test.shape)"
      ]
    },
    {
      "cell_type": "code",
      "execution_count": null,
      "metadata": {
        "id": "ffZ9L8mZ1nb7"
      },
      "outputs": [],
      "source": [
        "from tensorflow.keras.models import Sequential\n",
        "from tensorflow.keras.layers import Dense"
      ]
    },
    {
      "cell_type": "code",
      "execution_count": null,
      "metadata": {
        "id": "2WflQr5u39Sg"
      },
      "outputs": [],
      "source": [
        "model = Sequential()\n",
        "model.add(Dense(units = 784, activation = \"relu\"))\n",
        "model.add(Dense(units = 128, activation = \"relu\"))\n",
        "model.add(Dense(units = 128, activation = \"relu\"))\n",
        "model.add(Dense(units = 10, activation = \"softmax\"))"
      ]
    },
    {
      "cell_type": "code",
      "execution_count": null,
      "metadata": {
        "id": "lN0PsOIJ3_k_"
      },
      "outputs": [],
      "source": [
        "model.compile(loss = \"categorical_crossentropy\", optimizer = \"adam\", metrics = [\"accuracy\"])"
      ]
    },
    {
      "cell_type": "code",
      "execution_count": null,
      "metadata": {
        "colab": {
          "base_uri": "https://localhost:8080/"
        },
        "id": "-QUnSIvD48N4",
        "outputId": "f5ec096e-8d63-4f3f-825b-83fc6efddf9a"
      },
      "outputs": [
        {
          "output_type": "stream",
          "name": "stdout",
          "text": [
            "Epoch 1/20\n",
            "1875/1875 [==============================] - 11s 4ms/step - loss: 0.1943 - accuracy: 0.9411 - val_loss: 0.1040 - val_accuracy: 0.9669\n",
            "Epoch 2/20\n",
            "1875/1875 [==============================] - 8s 4ms/step - loss: 0.0861 - accuracy: 0.9740 - val_loss: 0.1060 - val_accuracy: 0.9679\n",
            "Epoch 3/20\n",
            "1875/1875 [==============================] - 8s 5ms/step - loss: 0.0623 - accuracy: 0.9813 - val_loss: 0.0743 - val_accuracy: 0.9783\n",
            "Epoch 4/20\n",
            "1875/1875 [==============================] - 9s 5ms/step - loss: 0.0457 - accuracy: 0.9860 - val_loss: 0.1079 - val_accuracy: 0.9720\n",
            "Epoch 5/20\n",
            "1875/1875 [==============================] - 8s 4ms/step - loss: 0.0386 - accuracy: 0.9879 - val_loss: 0.0886 - val_accuracy: 0.9781\n",
            "Epoch 6/20\n",
            "1875/1875 [==============================] - 8s 4ms/step - loss: 0.0310 - accuracy: 0.9903 - val_loss: 0.0799 - val_accuracy: 0.9793\n",
            "Epoch 7/20\n",
            "1875/1875 [==============================] - 9s 5ms/step - loss: 0.0276 - accuracy: 0.9916 - val_loss: 0.0710 - val_accuracy: 0.9815\n",
            "Epoch 8/20\n",
            "1875/1875 [==============================] - 9s 5ms/step - loss: 0.0233 - accuracy: 0.9926 - val_loss: 0.0751 - val_accuracy: 0.9814\n",
            "Epoch 9/20\n",
            "1875/1875 [==============================] - 8s 4ms/step - loss: 0.0226 - accuracy: 0.9931 - val_loss: 0.0741 - val_accuracy: 0.9821\n",
            "Epoch 10/20\n",
            "1875/1875 [==============================] - 9s 5ms/step - loss: 0.0172 - accuracy: 0.9950 - val_loss: 0.0750 - val_accuracy: 0.9830\n",
            "Epoch 11/20\n",
            "1875/1875 [==============================] - 9s 5ms/step - loss: 0.0203 - accuracy: 0.9940 - val_loss: 0.0924 - val_accuracy: 0.9801\n",
            "Epoch 12/20\n",
            "1875/1875 [==============================] - 8s 4ms/step - loss: 0.0149 - accuracy: 0.9954 - val_loss: 0.1085 - val_accuracy: 0.9790\n",
            "Epoch 13/20\n",
            "1875/1875 [==============================] - 8s 4ms/step - loss: 0.0168 - accuracy: 0.9952 - val_loss: 0.0919 - val_accuracy: 0.9822\n",
            "Epoch 14/20\n",
            "1875/1875 [==============================] - 8s 4ms/step - loss: 0.0161 - accuracy: 0.9955 - val_loss: 0.0998 - val_accuracy: 0.9802\n",
            "Epoch 15/20\n",
            "1875/1875 [==============================] - 8s 4ms/step - loss: 0.0140 - accuracy: 0.9958 - val_loss: 0.1022 - val_accuracy: 0.9796\n",
            "Epoch 16/20\n",
            "1875/1875 [==============================] - 9s 5ms/step - loss: 0.0137 - accuracy: 0.9959 - val_loss: 0.1081 - val_accuracy: 0.9806\n",
            "Epoch 17/20\n",
            "1875/1875 [==============================] - 8s 4ms/step - loss: 0.0122 - accuracy: 0.9968 - val_loss: 0.1035 - val_accuracy: 0.9816\n",
            "Epoch 18/20\n",
            "1875/1875 [==============================] - 9s 5ms/step - loss: 0.0117 - accuracy: 0.9967 - val_loss: 0.1436 - val_accuracy: 0.9756\n",
            "Epoch 19/20\n",
            "1875/1875 [==============================] - 8s 4ms/step - loss: 0.0111 - accuracy: 0.9969 - val_loss: 0.1125 - val_accuracy: 0.9807\n",
            "Epoch 20/20\n",
            "1875/1875 [==============================] - 9s 5ms/step - loss: 0.0121 - accuracy: 0.9966 - val_loss: 0.1130 - val_accuracy: 0.9814\n"
          ]
        },
        {
          "output_type": "execute_result",
          "data": {
            "text/plain": [
              "<keras.callbacks.History at 0x7fbba1665b90>"
            ]
          },
          "metadata": {},
          "execution_count": 12
        }
      ],
      "source": [
        "model.fit(x_train, y_train, batch_size = 32, epochs = 20, validation_data = (x_test, y_test))"
      ]
    },
    {
      "cell_type": "markdown",
      "metadata": {
        "id": "wCXyGv1J5Th6"
      },
      "source": [
        "# Conclusion: Successfuly implementation of Deep Neural Network using Tensorflow for character recognition using MNIST dataset "
      ]
    },
    {
      "cell_type": "code",
      "execution_count": null,
      "metadata": {
        "id": "m7PfUJVjqbtU"
      },
      "outputs": [],
      "source": [
        ""
      ]
    }
  ],
  "metadata": {
    "accelerator": "GPU",
    "colab": {
      "collapsed_sections": [],
      "name": "MNIST_DNN.ipynb",
      "provenance": [],
      "include_colab_link": true
    },
    "kernelspec": {
      "display_name": "Python 3 (ipykernel)",
      "language": "python",
      "name": "python3"
    },
    "language_info": {
      "codemirror_mode": {
        "name": "ipython",
        "version": 3
      },
      "file_extension": ".py",
      "mimetype": "text/x-python",
      "name": "python",
      "nbconvert_exporter": "python",
      "pygments_lexer": "ipython3",
      "version": "3.9.7"
    }
  },
  "nbformat": 4,
  "nbformat_minor": 0
}